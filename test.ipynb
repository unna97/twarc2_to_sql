{
 "cells": [
  {
   "cell_type": "code",
   "execution_count": 1,
   "metadata": {},
   "outputs": [],
   "source": [
    "from main import *\n",
    "import sqlalchemy as sa\n"
   ]
  },
  {
   "cell_type": "code",
   "execution_count": 2,
   "metadata": {},
   "outputs": [
    {
     "name": "stdout",
     "output_type": "stream",
     "text": [
      "mentoo_search_2018-01-01_2019-01-01.jsonl\n",
      "Table inserted: quoted_tweet_mapping\n",
      "Table inserted: retweeted_tweet_mapping\n",
      "Table inserted: replied_to_tweet_mapping\n",
      "Table inserted: url_tweet_mapping\n",
      "Table inserted: hashtag_tweet_mapping\n",
      "Empty table: cashtag_tweet_mapping\n",
      "Table inserted: mention_tweet_mapping\n",
      "Table inserted: tweet_data\n",
      "Table inserted: author_data\n",
      "Table inserted: quoted_tweet_mapping\n",
      "Table inserted: retweeted_tweet_mapping\n",
      "Table inserted: replied_to_tweet_mapping\n",
      "Table inserted: url_tweet_mapping\n",
      "Table inserted: hashtag_tweet_mapping\n",
      "Empty table: cashtag_tweet_mapping\n",
      "Table inserted: mention_tweet_mapping\n",
      "Table inserted: tweet_data\n",
      "Table inserted: author_data\n",
      "Table inserted: quoted_tweet_mapping\n",
      "Table inserted: retweeted_tweet_mapping\n",
      "Table inserted: replied_to_tweet_mapping\n",
      "Table inserted: url_tweet_mapping\n",
      "Table inserted: hashtag_tweet_mapping\n",
      "Empty table: cashtag_tweet_mapping\n",
      "Table inserted: mention_tweet_mapping\n",
      "Table inserted: tweet_data\n",
      "Table inserted: author_data\n",
      "Table inserted: quoted_tweet_mapping\n",
      "Table inserted: retweeted_tweet_mapping\n",
      "Table inserted: replied_to_tweet_mapping\n",
      "Table inserted: url_tweet_mapping\n",
      "Table inserted: hashtag_tweet_mapping\n",
      "Table inserted: cashtag_tweet_mapping\n",
      "Table inserted: mention_tweet_mapping\n",
      "Table inserted: tweet_data\n",
      "Table inserted: author_data\n",
      "Table inserted: quoted_tweet_mapping\n",
      "Table inserted: retweeted_tweet_mapping\n",
      "Table inserted: replied_to_tweet_mapping\n",
      "Table inserted: url_tweet_mapping\n",
      "Table inserted: hashtag_tweet_mapping\n",
      "Empty table: cashtag_tweet_mapping\n",
      "Table inserted: mention_tweet_mapping\n",
      "Table inserted: tweet_data\n",
      "Table inserted: author_data\n",
      "Table inserted: quoted_tweet_mapping\n",
      "Table inserted: retweeted_tweet_mapping\n",
      "Table inserted: replied_to_tweet_mapping\n",
      "Table inserted: url_tweet_mapping\n",
      "Table inserted: hashtag_tweet_mapping\n",
      "Table inserted: cashtag_tweet_mapping\n",
      "Table inserted: mention_tweet_mapping\n",
      "Table inserted: tweet_data\n",
      "Table inserted: author_data\n",
      "Table inserted: quoted_tweet_mapping\n",
      "Table inserted: retweeted_tweet_mapping\n",
      "Table inserted: replied_to_tweet_mapping\n",
      "Table inserted: url_tweet_mapping\n",
      "Table inserted: hashtag_tweet_mapping\n",
      "Empty table: cashtag_tweet_mapping\n",
      "Table inserted: mention_tweet_mapping\n",
      "Table inserted: tweet_data\n",
      "Table inserted: author_data\n",
      "Table inserted: quoted_tweet_mapping\n",
      "Table inserted: retweeted_tweet_mapping\n",
      "Table inserted: replied_to_tweet_mapping\n",
      "Table inserted: url_tweet_mapping\n",
      "Table inserted: hashtag_tweet_mapping\n",
      "Empty table: cashtag_tweet_mapping\n",
      "Table inserted: mention_tweet_mapping\n",
      "Table inserted: tweet_data\n",
      "Table inserted: author_data\n",
      "Table inserted: quoted_tweet_mapping\n",
      "Table inserted: retweeted_tweet_mapping\n",
      "Table inserted: replied_to_tweet_mapping\n",
      "Table inserted: url_tweet_mapping\n",
      "Table inserted: hashtag_tweet_mapping\n",
      "Empty table: cashtag_tweet_mapping\n",
      "Table inserted: mention_tweet_mapping\n",
      "Table inserted: tweet_data\n",
      "Table inserted: author_data\n",
      "Table inserted: quoted_tweet_mapping\n",
      "Table inserted: retweeted_tweet_mapping\n",
      "Table inserted: replied_to_tweet_mapping\n",
      "Table inserted: url_tweet_mapping\n",
      "Table inserted: hashtag_tweet_mapping\n",
      "Empty table: cashtag_tweet_mapping\n",
      "Table inserted: mention_tweet_mapping\n",
      "Table inserted: tweet_data\n",
      "Table inserted: author_data\n",
      "Table inserted: quoted_tweet_mapping\n",
      "Table inserted: retweeted_tweet_mapping\n",
      "Table inserted: replied_to_tweet_mapping\n",
      "Table inserted: url_tweet_mapping\n",
      "Table inserted: hashtag_tweet_mapping\n",
      "Table inserted: cashtag_tweet_mapping\n",
      "Table inserted: mention_tweet_mapping\n",
      "Table inserted: tweet_data\n",
      "Table inserted: author_data\n",
      "Table inserted: quoted_tweet_mapping\n",
      "Table inserted: retweeted_tweet_mapping\n",
      "Table inserted: replied_to_tweet_mapping\n",
      "Table inserted: url_tweet_mapping\n",
      "Table inserted: hashtag_tweet_mapping\n",
      "Empty table: cashtag_tweet_mapping\n",
      "Table inserted: mention_tweet_mapping\n",
      "Table inserted: tweet_data\n",
      "Table inserted: author_data\n",
      "Table inserted: quoted_tweet_mapping\n",
      "Table inserted: retweeted_tweet_mapping\n",
      "Table inserted: replied_to_tweet_mapping\n",
      "Table inserted: url_tweet_mapping\n",
      "Table inserted: hashtag_tweet_mapping\n",
      "Table inserted: cashtag_tweet_mapping\n",
      "Table inserted: mention_tweet_mapping\n",
      "Table inserted: tweet_data\n",
      "Table inserted: author_data\n",
      "Table inserted: quoted_tweet_mapping\n",
      "Table inserted: retweeted_tweet_mapping\n",
      "Table inserted: replied_to_tweet_mapping\n",
      "Table inserted: url_tweet_mapping\n",
      "Table inserted: hashtag_tweet_mapping\n",
      "Empty table: cashtag_tweet_mapping\n",
      "Table inserted: mention_tweet_mapping\n",
      "Table inserted: tweet_data\n",
      "Table inserted: author_data\n"
     ]
    },
    {
     "ename": "ValueError",
     "evalue": "A string literal cannot contain NUL (0x00) characters.",
     "output_type": "error",
     "traceback": [
      "\u001b[1;31m---------------------------------------------------------------------------\u001b[0m",
      "\u001b[1;31mValueError\u001b[0m                                Traceback (most recent call last)",
      "\u001b[1;32mc:\\Users\\HP\\Desktop\\Projects-Incomplete\\Hate Speech\\misogyny\\twarc2_to_sql\\test.ipynb Cell 2\u001b[0m in \u001b[0;36m<cell line: 1>\u001b[1;34m()\u001b[0m\n\u001b[1;32m----> <a href='vscode-notebook-cell:/c%3A/Users/HP/Desktop/Projects-Incomplete/Hate%20Speech/misogyny/twarc2_to_sql/test.ipynb#ch0000002?line=0'>1</a>\u001b[0m tweet_obj, user_obj \u001b[39m=\u001b[39m get_files_and_insert()\n",
      "File \u001b[1;32mc:\\Users\\HP\\Desktop\\Projects-Incomplete\\Hate Speech\\misogyny\\twarc2_to_sql\\main.py:91\u001b[0m, in \u001b[0;36mget_files_and_insert\u001b[1;34m()\u001b[0m\n\u001b[0;32m     89\u001b[0m files \u001b[39m=\u001b[39m os\u001b[39m.\u001b[39mlistdir(folder_path)\n\u001b[0;32m     90\u001b[0m engine \u001b[39m=\u001b[39m create_engine()\n\u001b[1;32m---> 91\u001b[0m tweet_object, user_object \u001b[39m=\u001b[39m insert_data_into_database(files, folder_path, engine)\n\u001b[0;32m     92\u001b[0m \u001b[39mreturn\u001b[39;00m tweet_object, user_object\n",
      "File \u001b[1;32mc:\\Users\\HP\\Desktop\\Projects-Incomplete\\Hate Speech\\misogyny\\twarc2_to_sql\\main.py:80\u001b[0m, in \u001b[0;36minsert_data_into_database\u001b[1;34m(files, folder_path, engine)\u001b[0m\n\u001b[0;32m     78\u001b[0m             \u001b[39melse\u001b[39;00m:\n\u001b[0;32m     79\u001b[0m                 \u001b[39mprint\u001b[39m(\u001b[39m'\u001b[39m\u001b[39mTable inserted: \u001b[39m\u001b[39m{}\u001b[39;00m\u001b[39m'\u001b[39m\u001b[39m.\u001b[39mformat(cur_table))\n\u001b[1;32m---> 80\u001b[0m                 user_object\u001b[39m.\u001b[39;49mtables[cur_table]\u001b[39m.\u001b[39;49mto_sql(\n\u001b[0;32m     81\u001b[0m                     name\u001b[39m=\u001b[39;49mcur_table, con\u001b[39m=\u001b[39;49mengine, if_exists\u001b[39m=\u001b[39;49m\u001b[39m'\u001b[39;49m\u001b[39mappend\u001b[39;49m\u001b[39m'\u001b[39;49m, index\u001b[39m=\u001b[39;49m\u001b[39mFalse\u001b[39;49;00m, method\u001b[39m=\u001b[39;49minsert_on_duplicate)\n\u001b[0;32m     82\u001b[0m \u001b[39mreturn\u001b[39;00m tweet_object, user_object\n",
      "File \u001b[1;32mc:\\Users\\HP\\anaconda3\\envs\\misinfo\\lib\\site-packages\\pandas\\core\\generic.py:2963\u001b[0m, in \u001b[0;36mNDFrame.to_sql\u001b[1;34m(self, name, con, schema, if_exists, index, index_label, chunksize, dtype, method)\u001b[0m\n\u001b[0;32m   2806\u001b[0m \u001b[39m\"\"\"\u001b[39;00m\n\u001b[0;32m   2807\u001b[0m \u001b[39mWrite records stored in a DataFrame to a SQL database.\u001b[39;00m\n\u001b[0;32m   2808\u001b[0m \n\u001b[1;32m   (...)\u001b[0m\n\u001b[0;32m   2959\u001b[0m \u001b[39m[(1,), (None,), (2,)]\u001b[39;00m\n\u001b[0;32m   2960\u001b[0m \u001b[39m\"\"\"\u001b[39;00m  \u001b[39m# noqa:E501\u001b[39;00m\n\u001b[0;32m   2961\u001b[0m \u001b[39mfrom\u001b[39;00m \u001b[39mpandas\u001b[39;00m\u001b[39m.\u001b[39;00m\u001b[39mio\u001b[39;00m \u001b[39mimport\u001b[39;00m sql\n\u001b[1;32m-> 2963\u001b[0m \u001b[39mreturn\u001b[39;00m sql\u001b[39m.\u001b[39;49mto_sql(\n\u001b[0;32m   2964\u001b[0m     \u001b[39mself\u001b[39;49m,\n\u001b[0;32m   2965\u001b[0m     name,\n\u001b[0;32m   2966\u001b[0m     con,\n\u001b[0;32m   2967\u001b[0m     schema\u001b[39m=\u001b[39;49mschema,\n\u001b[0;32m   2968\u001b[0m     if_exists\u001b[39m=\u001b[39;49mif_exists,\n\u001b[0;32m   2969\u001b[0m     index\u001b[39m=\u001b[39;49mindex,\n\u001b[0;32m   2970\u001b[0m     index_label\u001b[39m=\u001b[39;49mindex_label,\n\u001b[0;32m   2971\u001b[0m     chunksize\u001b[39m=\u001b[39;49mchunksize,\n\u001b[0;32m   2972\u001b[0m     dtype\u001b[39m=\u001b[39;49mdtype,\n\u001b[0;32m   2973\u001b[0m     method\u001b[39m=\u001b[39;49mmethod,\n\u001b[0;32m   2974\u001b[0m )\n",
      "File \u001b[1;32mc:\\Users\\HP\\anaconda3\\envs\\misinfo\\lib\\site-packages\\pandas\\io\\sql.py:697\u001b[0m, in \u001b[0;36mto_sql\u001b[1;34m(frame, name, con, schema, if_exists, index, index_label, chunksize, dtype, method, engine, **engine_kwargs)\u001b[0m\n\u001b[0;32m    692\u001b[0m \u001b[39melif\u001b[39;00m \u001b[39mnot\u001b[39;00m \u001b[39misinstance\u001b[39m(frame, DataFrame):\n\u001b[0;32m    693\u001b[0m     \u001b[39mraise\u001b[39;00m \u001b[39mNotImplementedError\u001b[39;00m(\n\u001b[0;32m    694\u001b[0m         \u001b[39m\"\u001b[39m\u001b[39m'\u001b[39m\u001b[39mframe\u001b[39m\u001b[39m'\u001b[39m\u001b[39m argument should be either a Series or a DataFrame\u001b[39m\u001b[39m\"\u001b[39m\n\u001b[0;32m    695\u001b[0m     )\n\u001b[1;32m--> 697\u001b[0m \u001b[39mreturn\u001b[39;00m pandas_sql\u001b[39m.\u001b[39;49mto_sql(\n\u001b[0;32m    698\u001b[0m     frame,\n\u001b[0;32m    699\u001b[0m     name,\n\u001b[0;32m    700\u001b[0m     if_exists\u001b[39m=\u001b[39;49mif_exists,\n\u001b[0;32m    701\u001b[0m     index\u001b[39m=\u001b[39;49mindex,\n\u001b[0;32m    702\u001b[0m     index_label\u001b[39m=\u001b[39;49mindex_label,\n\u001b[0;32m    703\u001b[0m     schema\u001b[39m=\u001b[39;49mschema,\n\u001b[0;32m    704\u001b[0m     chunksize\u001b[39m=\u001b[39;49mchunksize,\n\u001b[0;32m    705\u001b[0m     dtype\u001b[39m=\u001b[39;49mdtype,\n\u001b[0;32m    706\u001b[0m     method\u001b[39m=\u001b[39;49mmethod,\n\u001b[0;32m    707\u001b[0m     engine\u001b[39m=\u001b[39;49mengine,\n\u001b[0;32m    708\u001b[0m     \u001b[39m*\u001b[39;49m\u001b[39m*\u001b[39;49mengine_kwargs,\n\u001b[0;32m    709\u001b[0m )\n",
      "File \u001b[1;32mc:\\Users\\HP\\anaconda3\\envs\\misinfo\\lib\\site-packages\\pandas\\io\\sql.py:1739\u001b[0m, in \u001b[0;36mSQLDatabase.to_sql\u001b[1;34m(self, frame, name, if_exists, index, index_label, schema, chunksize, dtype, method, engine, **engine_kwargs)\u001b[0m\n\u001b[0;32m   1727\u001b[0m sql_engine \u001b[39m=\u001b[39m get_engine(engine)\n\u001b[0;32m   1729\u001b[0m table \u001b[39m=\u001b[39m \u001b[39mself\u001b[39m\u001b[39m.\u001b[39mprep_table(\n\u001b[0;32m   1730\u001b[0m     frame\u001b[39m=\u001b[39mframe,\n\u001b[0;32m   1731\u001b[0m     name\u001b[39m=\u001b[39mname,\n\u001b[1;32m   (...)\u001b[0m\n\u001b[0;32m   1736\u001b[0m     dtype\u001b[39m=\u001b[39mdtype,\n\u001b[0;32m   1737\u001b[0m )\n\u001b[1;32m-> 1739\u001b[0m total_inserted \u001b[39m=\u001b[39m sql_engine\u001b[39m.\u001b[39;49minsert_records(\n\u001b[0;32m   1740\u001b[0m     table\u001b[39m=\u001b[39;49mtable,\n\u001b[0;32m   1741\u001b[0m     con\u001b[39m=\u001b[39;49m\u001b[39mself\u001b[39;49m\u001b[39m.\u001b[39;49mconnectable,\n\u001b[0;32m   1742\u001b[0m     frame\u001b[39m=\u001b[39;49mframe,\n\u001b[0;32m   1743\u001b[0m     name\u001b[39m=\u001b[39;49mname,\n\u001b[0;32m   1744\u001b[0m     index\u001b[39m=\u001b[39;49mindex,\n\u001b[0;32m   1745\u001b[0m     schema\u001b[39m=\u001b[39;49mschema,\n\u001b[0;32m   1746\u001b[0m     chunksize\u001b[39m=\u001b[39;49mchunksize,\n\u001b[0;32m   1747\u001b[0m     method\u001b[39m=\u001b[39;49mmethod,\n\u001b[0;32m   1748\u001b[0m     \u001b[39m*\u001b[39;49m\u001b[39m*\u001b[39;49mengine_kwargs,\n\u001b[0;32m   1749\u001b[0m )\n\u001b[0;32m   1751\u001b[0m \u001b[39mself\u001b[39m\u001b[39m.\u001b[39mcheck_case_sensitive(name\u001b[39m=\u001b[39mname, schema\u001b[39m=\u001b[39mschema)\n\u001b[0;32m   1752\u001b[0m \u001b[39mreturn\u001b[39;00m total_inserted\n",
      "File \u001b[1;32mc:\\Users\\HP\\anaconda3\\envs\\misinfo\\lib\\site-packages\\pandas\\io\\sql.py:1322\u001b[0m, in \u001b[0;36mSQLAlchemyEngine.insert_records\u001b[1;34m(self, table, con, frame, name, index, schema, chunksize, method, **engine_kwargs)\u001b[0m\n\u001b[0;32m   1319\u001b[0m \u001b[39mfrom\u001b[39;00m \u001b[39msqlalchemy\u001b[39;00m \u001b[39mimport\u001b[39;00m exc\n\u001b[0;32m   1321\u001b[0m \u001b[39mtry\u001b[39;00m:\n\u001b[1;32m-> 1322\u001b[0m     \u001b[39mreturn\u001b[39;00m table\u001b[39m.\u001b[39;49minsert(chunksize\u001b[39m=\u001b[39;49mchunksize, method\u001b[39m=\u001b[39;49mmethod)\n\u001b[0;32m   1323\u001b[0m \u001b[39mexcept\u001b[39;00m exc\u001b[39m.\u001b[39mSQLAlchemyError \u001b[39mas\u001b[39;00m err:\n\u001b[0;32m   1324\u001b[0m     \u001b[39m# GH34431\u001b[39;00m\n\u001b[0;32m   1325\u001b[0m     \u001b[39m# https://stackoverflow.com/a/67358288/6067848\u001b[39;00m\n\u001b[0;32m   1326\u001b[0m     msg \u001b[39m=\u001b[39m \u001b[39mr\u001b[39m\u001b[39m\"\"\"\u001b[39m\u001b[39m(\u001b[39m\u001b[39m\\\u001b[39m\u001b[39m(1054, \u001b[39m\u001b[39m\"\u001b[39m\u001b[39mUnknown column \u001b[39m\u001b[39m'\u001b[39m\u001b[39minf(e0)?\u001b[39m\u001b[39m'\u001b[39m\u001b[39m in \u001b[39m\u001b[39m'\u001b[39m\u001b[39mfield list\u001b[39m\u001b[39m'\u001b[39m\u001b[39m\"\u001b[39m\u001b[39m\\\u001b[39m\u001b[39m))(?#\u001b[39m\n\u001b[0;32m   1327\u001b[0m \u001b[39m    )|inf can not be used with MySQL\u001b[39m\u001b[39m\"\"\"\u001b[39m\n",
      "File \u001b[1;32mc:\\Users\\HP\\anaconda3\\envs\\misinfo\\lib\\site-packages\\pandas\\io\\sql.py:950\u001b[0m, in \u001b[0;36mSQLTable.insert\u001b[1;34m(self, chunksize, method)\u001b[0m\n\u001b[0;32m    947\u001b[0m     \u001b[39mbreak\u001b[39;00m\n\u001b[0;32m    949\u001b[0m chunk_iter \u001b[39m=\u001b[39m \u001b[39mzip\u001b[39m(\u001b[39m*\u001b[39m(arr[start_i:end_i] \u001b[39mfor\u001b[39;00m arr \u001b[39min\u001b[39;00m data_list))\n\u001b[1;32m--> 950\u001b[0m num_inserted \u001b[39m=\u001b[39m exec_insert(conn, keys, chunk_iter)\n\u001b[0;32m    951\u001b[0m \u001b[39mif\u001b[39;00m num_inserted \u001b[39mis\u001b[39;00m \u001b[39mNone\u001b[39;00m:\n\u001b[0;32m    952\u001b[0m     total_inserted \u001b[39m=\u001b[39m \u001b[39mNone\u001b[39;00m\n",
      "File \u001b[1;32mc:\\Users\\HP\\Desktop\\Projects-Incomplete\\Hate Speech\\misogyny\\twarc2_to_sql\\main.py:36\u001b[0m, in \u001b[0;36minsert_on_duplicate\u001b[1;34m(table, conn, keys, data_iter)\u001b[0m\n\u001b[0;32m     34\u001b[0m insert_stmt \u001b[39m=\u001b[39m insert(table\u001b[39m.\u001b[39mtable)\u001b[39m.\u001b[39mvalues(\u001b[39mlist\u001b[39m(data_iter))\n\u001b[0;32m     35\u001b[0m on_duplicate_key_stmt \u001b[39m=\u001b[39m insert_stmt\u001b[39m.\u001b[39mon_conflict_do_nothing()\n\u001b[1;32m---> 36\u001b[0m conn\u001b[39m.\u001b[39;49mexecute(on_duplicate_key_stmt)\n",
      "File \u001b[1;32mc:\\Users\\HP\\anaconda3\\envs\\misinfo\\lib\\site-packages\\sqlalchemy\\engine\\base.py:1295\u001b[0m, in \u001b[0;36mConnection.execute\u001b[1;34m(self, statement, *multiparams, **params)\u001b[0m\n\u001b[0;32m   1291\u001b[0m     util\u001b[39m.\u001b[39mraise_(\n\u001b[0;32m   1292\u001b[0m         exc\u001b[39m.\u001b[39mObjectNotExecutableError(statement), replace_context\u001b[39m=\u001b[39merr\n\u001b[0;32m   1293\u001b[0m     )\n\u001b[0;32m   1294\u001b[0m \u001b[39melse\u001b[39;00m:\n\u001b[1;32m-> 1295\u001b[0m     \u001b[39mreturn\u001b[39;00m meth(\u001b[39mself\u001b[39;49m, multiparams, params, _EMPTY_EXECUTION_OPTS)\n",
      "File \u001b[1;32mc:\\Users\\HP\\anaconda3\\envs\\misinfo\\lib\\site-packages\\sqlalchemy\\sql\\elements.py:325\u001b[0m, in \u001b[0;36mClauseElement._execute_on_connection\u001b[1;34m(self, connection, multiparams, params, execution_options, _force)\u001b[0m\n\u001b[0;32m    321\u001b[0m \u001b[39mdef\u001b[39;00m \u001b[39m_execute_on_connection\u001b[39m(\n\u001b[0;32m    322\u001b[0m     \u001b[39mself\u001b[39m, connection, multiparams, params, execution_options, _force\u001b[39m=\u001b[39m\u001b[39mFalse\u001b[39;00m\n\u001b[0;32m    323\u001b[0m ):\n\u001b[0;32m    324\u001b[0m     \u001b[39mif\u001b[39;00m _force \u001b[39mor\u001b[39;00m \u001b[39mself\u001b[39m\u001b[39m.\u001b[39msupports_execution:\n\u001b[1;32m--> 325\u001b[0m         \u001b[39mreturn\u001b[39;00m connection\u001b[39m.\u001b[39;49m_execute_clauseelement(\n\u001b[0;32m    326\u001b[0m             \u001b[39mself\u001b[39;49m, multiparams, params, execution_options\n\u001b[0;32m    327\u001b[0m         )\n\u001b[0;32m    328\u001b[0m     \u001b[39melse\u001b[39;00m:\n\u001b[0;32m    329\u001b[0m         \u001b[39mraise\u001b[39;00m exc\u001b[39m.\u001b[39mObjectNotExecutableError(\u001b[39mself\u001b[39m)\n",
      "File \u001b[1;32mc:\\Users\\HP\\anaconda3\\envs\\misinfo\\lib\\site-packages\\sqlalchemy\\engine\\base.py:1487\u001b[0m, in \u001b[0;36mConnection._execute_clauseelement\u001b[1;34m(self, elem, multiparams, params, execution_options)\u001b[0m\n\u001b[0;32m   1475\u001b[0m compiled_cache \u001b[39m=\u001b[39m execution_options\u001b[39m.\u001b[39mget(\n\u001b[0;32m   1476\u001b[0m     \u001b[39m\"\u001b[39m\u001b[39mcompiled_cache\u001b[39m\u001b[39m\"\u001b[39m, \u001b[39mself\u001b[39m\u001b[39m.\u001b[39mengine\u001b[39m.\u001b[39m_compiled_cache\n\u001b[0;32m   1477\u001b[0m )\n\u001b[0;32m   1479\u001b[0m compiled_sql, extracted_params, cache_hit \u001b[39m=\u001b[39m elem\u001b[39m.\u001b[39m_compile_w_cache(\n\u001b[0;32m   1480\u001b[0m     dialect\u001b[39m=\u001b[39mdialect,\n\u001b[0;32m   1481\u001b[0m     compiled_cache\u001b[39m=\u001b[39mcompiled_cache,\n\u001b[1;32m   (...)\u001b[0m\n\u001b[0;32m   1485\u001b[0m     linting\u001b[39m=\u001b[39m\u001b[39mself\u001b[39m\u001b[39m.\u001b[39mdialect\u001b[39m.\u001b[39mcompiler_linting \u001b[39m|\u001b[39m compiler\u001b[39m.\u001b[39mWARN_LINTING,\n\u001b[0;32m   1486\u001b[0m )\n\u001b[1;32m-> 1487\u001b[0m ret \u001b[39m=\u001b[39m \u001b[39mself\u001b[39;49m\u001b[39m.\u001b[39;49m_execute_context(\n\u001b[0;32m   1488\u001b[0m     dialect,\n\u001b[0;32m   1489\u001b[0m     dialect\u001b[39m.\u001b[39;49mexecution_ctx_cls\u001b[39m.\u001b[39;49m_init_compiled,\n\u001b[0;32m   1490\u001b[0m     compiled_sql,\n\u001b[0;32m   1491\u001b[0m     distilled_params,\n\u001b[0;32m   1492\u001b[0m     execution_options,\n\u001b[0;32m   1493\u001b[0m     compiled_sql,\n\u001b[0;32m   1494\u001b[0m     distilled_params,\n\u001b[0;32m   1495\u001b[0m     elem,\n\u001b[0;32m   1496\u001b[0m     extracted_params,\n\u001b[0;32m   1497\u001b[0m     cache_hit\u001b[39m=\u001b[39;49mcache_hit,\n\u001b[0;32m   1498\u001b[0m )\n\u001b[0;32m   1499\u001b[0m \u001b[39mif\u001b[39;00m has_events:\n\u001b[0;32m   1500\u001b[0m     \u001b[39mself\u001b[39m\u001b[39m.\u001b[39mdispatch\u001b[39m.\u001b[39mafter_execute(\n\u001b[0;32m   1501\u001b[0m         \u001b[39mself\u001b[39m,\n\u001b[0;32m   1502\u001b[0m         elem,\n\u001b[1;32m   (...)\u001b[0m\n\u001b[0;32m   1506\u001b[0m         ret,\n\u001b[0;32m   1507\u001b[0m     )\n",
      "File \u001b[1;32mc:\\Users\\HP\\anaconda3\\envs\\misinfo\\lib\\site-packages\\sqlalchemy\\engine\\base.py:1851\u001b[0m, in \u001b[0;36mConnection._execute_context\u001b[1;34m(self, dialect, constructor, statement, parameters, execution_options, *args, **kw)\u001b[0m\n\u001b[0;32m   1848\u001b[0m             branched\u001b[39m.\u001b[39mclose()\n\u001b[0;32m   1850\u001b[0m \u001b[39mexcept\u001b[39;00m \u001b[39mBaseException\u001b[39;00m \u001b[39mas\u001b[39;00m e:\n\u001b[1;32m-> 1851\u001b[0m     \u001b[39mself\u001b[39;49m\u001b[39m.\u001b[39;49m_handle_dbapi_exception(\n\u001b[0;32m   1852\u001b[0m         e, statement, parameters, cursor, context\n\u001b[0;32m   1853\u001b[0m     )\n\u001b[0;32m   1855\u001b[0m \u001b[39mreturn\u001b[39;00m result\n",
      "File \u001b[1;32mc:\\Users\\HP\\anaconda3\\envs\\misinfo\\lib\\site-packages\\sqlalchemy\\engine\\base.py:2036\u001b[0m, in \u001b[0;36mConnection._handle_dbapi_exception\u001b[1;34m(self, e, statement, parameters, cursor, context)\u001b[0m\n\u001b[0;32m   2032\u001b[0m         util\u001b[39m.\u001b[39mraise_(\n\u001b[0;32m   2033\u001b[0m             sqlalchemy_exception, with_traceback\u001b[39m=\u001b[39mexc_info[\u001b[39m2\u001b[39m], from_\u001b[39m=\u001b[39me\n\u001b[0;32m   2034\u001b[0m         )\n\u001b[0;32m   2035\u001b[0m     \u001b[39melse\u001b[39;00m:\n\u001b[1;32m-> 2036\u001b[0m         util\u001b[39m.\u001b[39;49mraise_(exc_info[\u001b[39m1\u001b[39;49m], with_traceback\u001b[39m=\u001b[39;49mexc_info[\u001b[39m2\u001b[39;49m])\n\u001b[0;32m   2038\u001b[0m \u001b[39mfinally\u001b[39;00m:\n\u001b[0;32m   2039\u001b[0m     \u001b[39mdel\u001b[39;00m \u001b[39mself\u001b[39m\u001b[39m.\u001b[39m_reentrant_error\n",
      "File \u001b[1;32mc:\\Users\\HP\\anaconda3\\envs\\misinfo\\lib\\site-packages\\sqlalchemy\\util\\compat.py:207\u001b[0m, in \u001b[0;36mraise_\u001b[1;34m(***failed resolving arguments***)\u001b[0m\n\u001b[0;32m    204\u001b[0m     exception\u001b[39m.\u001b[39m__cause__ \u001b[39m=\u001b[39m replace_context\n\u001b[0;32m    206\u001b[0m \u001b[39mtry\u001b[39;00m:\n\u001b[1;32m--> 207\u001b[0m     \u001b[39mraise\u001b[39;00m exception\n\u001b[0;32m    208\u001b[0m \u001b[39mfinally\u001b[39;00m:\n\u001b[0;32m    209\u001b[0m     \u001b[39m# credit to\u001b[39;00m\n\u001b[0;32m    210\u001b[0m     \u001b[39m# https://cosmicpercolator.com/2016/01/13/exception-leaks-in-python-2-and-3/\u001b[39;00m\n\u001b[0;32m    211\u001b[0m     \u001b[39m# as the __traceback__ object creates a cycle\u001b[39;00m\n\u001b[0;32m    212\u001b[0m     \u001b[39mdel\u001b[39;00m exception, replace_context, from_, with_traceback\n",
      "File \u001b[1;32mc:\\Users\\HP\\anaconda3\\envs\\misinfo\\lib\\site-packages\\sqlalchemy\\engine\\base.py:1808\u001b[0m, in \u001b[0;36mConnection._execute_context\u001b[1;34m(self, dialect, constructor, statement, parameters, execution_options, *args, **kw)\u001b[0m\n\u001b[0;32m   1806\u001b[0m                 \u001b[39mbreak\u001b[39;00m\n\u001b[0;32m   1807\u001b[0m     \u001b[39mif\u001b[39;00m \u001b[39mnot\u001b[39;00m evt_handled:\n\u001b[1;32m-> 1808\u001b[0m         \u001b[39mself\u001b[39;49m\u001b[39m.\u001b[39;49mdialect\u001b[39m.\u001b[39;49mdo_execute(\n\u001b[0;32m   1809\u001b[0m             cursor, statement, parameters, context\n\u001b[0;32m   1810\u001b[0m         )\n\u001b[0;32m   1812\u001b[0m \u001b[39mif\u001b[39;00m \u001b[39mself\u001b[39m\u001b[39m.\u001b[39m_has_events \u001b[39mor\u001b[39;00m \u001b[39mself\u001b[39m\u001b[39m.\u001b[39mengine\u001b[39m.\u001b[39m_has_events:\n\u001b[0;32m   1813\u001b[0m     \u001b[39mself\u001b[39m\u001b[39m.\u001b[39mdispatch\u001b[39m.\u001b[39mafter_cursor_execute(\n\u001b[0;32m   1814\u001b[0m         \u001b[39mself\u001b[39m,\n\u001b[0;32m   1815\u001b[0m         cursor,\n\u001b[1;32m   (...)\u001b[0m\n\u001b[0;32m   1819\u001b[0m         context\u001b[39m.\u001b[39mexecutemany,\n\u001b[0;32m   1820\u001b[0m     )\n",
      "File \u001b[1;32mc:\\Users\\HP\\anaconda3\\envs\\misinfo\\lib\\site-packages\\sqlalchemy\\engine\\default.py:732\u001b[0m, in \u001b[0;36mDefaultDialect.do_execute\u001b[1;34m(self, cursor, statement, parameters, context)\u001b[0m\n\u001b[0;32m    731\u001b[0m \u001b[39mdef\u001b[39;00m \u001b[39mdo_execute\u001b[39m(\u001b[39mself\u001b[39m, cursor, statement, parameters, context\u001b[39m=\u001b[39m\u001b[39mNone\u001b[39;00m):\n\u001b[1;32m--> 732\u001b[0m     cursor\u001b[39m.\u001b[39;49mexecute(statement, parameters)\n",
      "\u001b[1;31mValueError\u001b[0m: A string literal cannot contain NUL (0x00) characters."
     ]
    }
   ],
   "source": [
    "tweet_obj, user_obj = get_files_and_insert()"
   ]
  },
  {
   "cell_type": "code",
   "execution_count": null,
   "metadata": {},
   "outputs": [],
   "source": []
  },
  {
   "cell_type": "code",
   "execution_count": 4,
   "metadata": {},
   "outputs": [],
   "source": [
    "from sqlalchemy.dialects.postgresql import insert\n",
    "\n",
    "\n",
    "def insert_on_duplicate(table, conn, keys, data_iter):\n",
    "    insert_stmt = insert(table.table).values(list(data_iter))\n",
    "    on_duplicate_key_stmt = insert_stmt.on_conflict_do_nothing()\n",
    "    conn.execute(on_duplicate_key_stmt)\n"
   ]
  },
  {
   "cell_type": "code",
   "execution_count": 5,
   "metadata": {},
   "outputs": [],
   "source": [
    "def insert_do_nothing_on_conflicts(sqltable, conn, keys, data_iter):\n",
    "    \"\"\"\n",
    "    Execute SQL statement inserting data\n",
    "\n",
    "    Parameters\n",
    "    ----------\n",
    "    sqltable : pandas.io.sql.SQLTable\n",
    "    conn : sqlalchemy.engine.Engine or sqlalchemy.engine.Connection\n",
    "    keys : list of str\n",
    "        Column names\n",
    "    data_iter : Iterable that iterates the values to be inserted\n",
    "    \"\"\"\n",
    "    from sqlalchemy.dialects.postgresql import insert\n",
    "    from sqlalchemy import table, column\n",
    "    columns = []\n",
    "    for c in keys:\n",
    "        columns.append(column(c))\n",
    "\n",
    "    if sqltable.schema:\n",
    "        table_name = '{}.{}'.format(sqltable.schema, sqltable.name)\n",
    "    else:\n",
    "        table_name = sqltable.name\n",
    "\n",
    "    mytable = table(table_name, *columns)\n",
    "\n",
    "    insert_stmt = insert(mytable).values(list(data_iter))\n",
    "    do_nothing_stmt = insert_stmt.on_conflict_do_nothing(\n",
    "        index_elements=['unique_code'])\n",
    "\n",
    "    conn.execute(do_nothing_stmt)\n",
    "\n",
    "\n",
    "# pd.to_sql('mytable', con=sql_engine, method=insert_do_nothing_on_conflicts)\n"
   ]
  },
  {
   "cell_type": "code",
   "execution_count": 6,
   "metadata": {},
   "outputs": [],
   "source": [
    "# tweet_obj.tables[cur_table].drop_duplicates(subset=['id'], inplace=True)"
   ]
  },
  {
   "cell_type": "code",
   "execution_count": 7,
   "metadata": {},
   "outputs": [],
   "source": [
    "cur_table = 'tweet_data'\n",
    "tweet_obj.tables[cur_table].to_sql(\n",
    "    name=cur_table, con=engine, if_exists='append', index=False, method=insert_on_duplicate)\n"
   ]
  },
  {
   "cell_type": "code",
   "execution_count": 23,
   "metadata": {},
   "outputs": [
    {
     "name": "stdout",
     "output_type": "stream",
     "text": [
      "Table inserted: quoted_tweet_mapping\n",
      "Table inserted: retweeted_tweet_mapping\n",
      "Table inserted: replied_to_tweet_mapping\n",
      "Table inserted: url_tweet_mapping\n",
      "Table inserted: hashtag_tweet_mapping\n",
      "Empty table: cashtag_tweet_mapping\n",
      "Table inserted: mention_tweet_mapping\n",
      "Table inserted: tweet_data\n"
     ]
    }
   ],
   "source": [
    "for cur_table in tweet_obj.tables.keys():\n",
    "    if len(tweet_obj.tables[cur_table]) == 0:\n",
    "        print('Empty table: {}'.format(cur_table))\n",
    "    else:\n",
    "        print('Table inserted: {}'.format(cur_table))\n",
    "        tweet_obj.tables[cur_table].to_sql(name=cur_table, con=engine, if_exists='append', index=False, method=insert_on_duplicate)"
   ]
  },
  {
   "cell_type": "code",
   "execution_count": 9,
   "metadata": {},
   "outputs": [],
   "source": [
    "for cur_table in user_obj.tables.keys():\n",
    "    user_obj.tables[cur_table].to_sql(\n",
    "        name=cur_table, con=engine, if_exists='append', index=False, method=insert_on_duplicate)"
   ]
  },
  {
   "cell_type": "code",
   "execution_count": null,
   "metadata": {},
   "outputs": [],
   "source": [
    "# tweet_obj.tables['replied_to_tweet_mapping']\n"
   ]
  },
  {
   "cell_type": "code",
   "execution_count": 9,
   "metadata": {},
   "outputs": [],
   "source": [
    "q = \"\"\"\n",
    "SELECT * FROM information_schema.columns\n",
    "WHERE table_name = 'hashtag_tweet_mapping'\n",
    "\"\"\""
   ]
  },
  {
   "cell_type": "code",
   "execution_count": 10,
   "metadata": {},
   "outputs": [],
   "source": [
    "table_schema = pd.read_sql(q, engine)"
   ]
  },
  {
   "cell_type": "code",
   "execution_count": 13,
   "metadata": {},
   "outputs": [
    {
     "data": {
      "text/plain": [
       "True"
      ]
     },
     "execution_count": 13,
     "metadata": {},
     "output_type": "execute_result"
    }
   ],
   "source": [
    "# set(tweet_obj.tables['replied_to_tweet_mapping'].columns)\n",
    "set(table_schema['column_name'].unique()) == set(tweet_obj.tables['hashtag_tweet_mapping'].columns)"
   ]
  },
  {
   "cell_type": "code",
   "execution_count": 12,
   "metadata": {},
   "outputs": [],
   "source": [
    "q = \"\"\"\n",
    "SELECT count(*) FROM\n",
    "author_data\n",
    "\"\"\" "
   ]
  },
  {
   "cell_type": "code",
   "execution_count": 10,
   "metadata": {},
   "outputs": [],
   "source": [
    "q = \"\"\"\n",
    "select count(distinct(id)) from author_data\n",
    "\"\"\""
   ]
  },
  {
   "cell_type": "code",
   "execution_count": 13,
   "metadata": {},
   "outputs": [
    {
     "data": {
      "text/html": [
       "<div>\n",
       "<style scoped>\n",
       "    .dataframe tbody tr th:only-of-type {\n",
       "        vertical-align: middle;\n",
       "    }\n",
       "\n",
       "    .dataframe tbody tr th {\n",
       "        vertical-align: top;\n",
       "    }\n",
       "\n",
       "    .dataframe thead th {\n",
       "        text-align: right;\n",
       "    }\n",
       "</style>\n",
       "<table border=\"1\" class=\"dataframe\">\n",
       "  <thead>\n",
       "    <tr style=\"text-align: right;\">\n",
       "      <th></th>\n",
       "      <th>count</th>\n",
       "    </tr>\n",
       "  </thead>\n",
       "  <tbody>\n",
       "    <tr>\n",
       "      <th>0</th>\n",
       "      <td>2092</td>\n",
       "    </tr>\n",
       "  </tbody>\n",
       "</table>\n",
       "</div>"
      ],
      "text/plain": [
       "   count\n",
       "0   2092"
      ]
     },
     "execution_count": 13,
     "metadata": {},
     "output_type": "execute_result"
    }
   ],
   "source": [
    "pd.read_sql(q, engine)"
   ]
  },
  {
   "cell_type": "code",
   "execution_count": 20,
   "metadata": {},
   "outputs": [],
   "source": [
    "q = \"\"\"\n",
    "SELECT qt.referenced_tweet_id,td.text,td.id\n",
    "FROM quoted_tweet_mapping  qt\n",
    "join tweet_data td\n",
    "    on qt.referenced_tweet_id = td.id\n",
    "\"\"\""
   ]
  },
  {
   "cell_type": "code",
   "execution_count": 17,
   "metadata": {},
   "outputs": [
    {
     "data": {
      "text/plain": [
       "6761"
      ]
     },
     "execution_count": 17,
     "metadata": {},
     "output_type": "execute_result"
    }
   ],
   "source": [
    "tweet_obj.tables['tweet_data'].id.count()\n"
   ]
  },
  {
   "cell_type": "code",
   "execution_count": 21,
   "metadata": {},
   "outputs": [],
   "source": [
    "quote_data = pd.read_sql(q, engine)"
   ]
  },
  {
   "cell_type": "code",
   "execution_count": 26,
   "metadata": {},
   "outputs": [],
   "source": [
    "q = \"\"\"\n",
    "SELECT *\n",
    "from mention_tweet_mapping\n",
    "limit 10\n",
    "\"\"\"\n",
    "\n",
    "metioned_data = pd.read_sql(q, engine)"
   ]
  },
  {
   "cell_type": "code",
   "execution_count": 27,
   "metadata": {},
   "outputs": [
    {
     "data": {
      "text/html": [
       "<div>\n",
       "<style scoped>\n",
       "    .dataframe tbody tr th:only-of-type {\n",
       "        vertical-align: middle;\n",
       "    }\n",
       "\n",
       "    .dataframe tbody tr th {\n",
       "        vertical-align: top;\n",
       "    }\n",
       "\n",
       "    .dataframe thead th {\n",
       "        text-align: right;\n",
       "    }\n",
       "</style>\n",
       "<table border=\"1\" class=\"dataframe\">\n",
       "  <thead>\n",
       "    <tr style=\"text-align: right;\">\n",
       "      <th></th>\n",
       "      <th>tweet_id</th>\n",
       "      <th>mention_user_id</th>\n",
       "      <th>username</th>\n",
       "      <th>start</th>\n",
       "      <th>end</th>\n",
       "    </tr>\n",
       "  </thead>\n",
       "  <tbody>\n",
       "    <tr>\n",
       "      <th>0</th>\n",
       "      <td>1079874246128660483</td>\n",
       "      <td>2308699184</td>\n",
       "      <td>MentalStigmas</td>\n",
       "      <td>3</td>\n",
       "      <td>17</td>\n",
       "    </tr>\n",
       "    <tr>\n",
       "      <th>1</th>\n",
       "      <td>1079874246128660483</td>\n",
       "      <td>5988062</td>\n",
       "      <td>TheEconomist</td>\n",
       "      <td>109</td>\n",
       "      <td>122</td>\n",
       "    </tr>\n",
       "    <tr>\n",
       "      <th>2</th>\n",
       "      <td>1079857715684564994</td>\n",
       "      <td>4787013172</td>\n",
       "      <td>nitin33K</td>\n",
       "      <td>3</td>\n",
       "      <td>12</td>\n",
       "    </tr>\n",
       "    <tr>\n",
       "      <th>3</th>\n",
       "      <td>1079857715684564994</td>\n",
       "      <td>4573405572</td>\n",
       "      <td>MumbaiPolice</td>\n",
       "      <td>14</td>\n",
       "      <td>27</td>\n",
       "    </tr>\n",
       "    <tr>\n",
       "      <th>4</th>\n",
       "      <td>1079857715684564994</td>\n",
       "      <td>3041294294</td>\n",
       "      <td>IPS_Association</td>\n",
       "      <td>106</td>\n",
       "      <td>122</td>\n",
       "    </tr>\n",
       "    <tr>\n",
       "      <th>5</th>\n",
       "      <td>1079857715684564994</td>\n",
       "      <td>2686770528</td>\n",
       "      <td>_DigitalIndia</td>\n",
       "      <td>123</td>\n",
       "      <td>137</td>\n",
       "    </tr>\n",
       "    <tr>\n",
       "      <th>6</th>\n",
       "      <td>1079848933504045056</td>\n",
       "      <td>4787013172</td>\n",
       "      <td>nitin33K</td>\n",
       "      <td>3</td>\n",
       "      <td>12</td>\n",
       "    </tr>\n",
       "    <tr>\n",
       "      <th>7</th>\n",
       "      <td>1079848933504045056</td>\n",
       "      <td>4573405572</td>\n",
       "      <td>MumbaiPolice</td>\n",
       "      <td>14</td>\n",
       "      <td>27</td>\n",
       "    </tr>\n",
       "    <tr>\n",
       "      <th>8</th>\n",
       "      <td>1079848933504045056</td>\n",
       "      <td>3041294294</td>\n",
       "      <td>IPS_Association</td>\n",
       "      <td>106</td>\n",
       "      <td>122</td>\n",
       "    </tr>\n",
       "    <tr>\n",
       "      <th>9</th>\n",
       "      <td>1079848933504045056</td>\n",
       "      <td>2686770528</td>\n",
       "      <td>_DigitalIndia</td>\n",
       "      <td>123</td>\n",
       "      <td>137</td>\n",
       "    </tr>\n",
       "  </tbody>\n",
       "</table>\n",
       "</div>"
      ],
      "text/plain": [
       "              tweet_id mention_user_id         username  start  end\n",
       "0  1079874246128660483      2308699184    MentalStigmas      3   17\n",
       "1  1079874246128660483         5988062     TheEconomist    109  122\n",
       "2  1079857715684564994      4787013172         nitin33K      3   12\n",
       "3  1079857715684564994      4573405572     MumbaiPolice     14   27\n",
       "4  1079857715684564994      3041294294  IPS_Association    106  122\n",
       "5  1079857715684564994      2686770528    _DigitalIndia    123  137\n",
       "6  1079848933504045056      4787013172         nitin33K      3   12\n",
       "7  1079848933504045056      4573405572     MumbaiPolice     14   27\n",
       "8  1079848933504045056      3041294294  IPS_Association    106  122\n",
       "9  1079848933504045056      2686770528    _DigitalIndia    123  137"
      ]
     },
     "execution_count": 27,
     "metadata": {},
     "output_type": "execute_result"
    }
   ],
   "source": [
    "metioned_data\n"
   ]
  }
 ],
 "metadata": {
  "kernelspec": {
   "display_name": "Python 3.8.13 ('misinfo')",
   "language": "python",
   "name": "python3"
  },
  "language_info": {
   "codemirror_mode": {
    "name": "ipython",
    "version": 3
   },
   "file_extension": ".py",
   "mimetype": "text/x-python",
   "name": "python",
   "nbconvert_exporter": "python",
   "pygments_lexer": "ipython3",
   "version": "3.8.13"
  },
  "orig_nbformat": 4,
  "vscode": {
   "interpreter": {
    "hash": "c22271d39fa57549430a265acba6f05a754be972c2607afe2021cd2e8d975b4c"
   }
  }
 },
 "nbformat": 4,
 "nbformat_minor": 2
}
