{
 "cells": [
  {
   "cell_type": "code",
   "execution_count": 4,
   "metadata": {},
   "outputs": [],
   "source": [
    "from main import *\n",
    "import sqlalchemy as sa"
   ]
  },
  {
   "cell_type": "code",
   "execution_count": 6,
   "metadata": {},
   "outputs": [
    {
     "name": "stdout",
     "output_type": "stream",
     "text": [
      "mentoo_search_2018-01-01_2019-01-01.jsonl\n",
      "mentoo_search_2019-01-01_2020-01-01.jsonl\n",
      "mentoo_search_2020-01-01_2021-01-01.jsonl\n",
      "mentoo_search_2021-01-01_2022-01-01.jsonl\n",
      "mentoo_search_2022-01-01_2022-06-01.jsonl\n"
     ]
    }
   ],
   "source": [
    "tweet_obj, user_obj = get_files_and_insert()"
   ]
  },
  {
   "cell_type": "code",
   "execution_count": 6,
   "metadata": {},
   "outputs": [],
   "source": [
    "# tweet_obj.tables[cur_table].drop_duplicates(subset=['id'], inplace=True)"
   ]
  },
  {
   "cell_type": "code",
   "execution_count": 8,
   "metadata": {},
   "outputs": [],
   "source": [
    "q = \"\"\"\n",
    "SELECT * FROM information_schema.columns\n",
    "WHERE table_name = 'hashtag_tweet_mapping'\n",
    "\"\"\""
   ]
  },
  {
   "cell_type": "code",
   "execution_count": 7,
   "metadata": {},
   "outputs": [
    {
     "data": {
      "text/html": [
       "<div>\n",
       "<style scoped>\n",
       "    .dataframe tbody tr th:only-of-type {\n",
       "        vertical-align: middle;\n",
       "    }\n",
       "\n",
       "    .dataframe tbody tr th {\n",
       "        vertical-align: top;\n",
       "    }\n",
       "\n",
       "    .dataframe thead th {\n",
       "        text-align: right;\n",
       "    }\n",
       "</style>\n",
       "<table border=\"1\" class=\"dataframe\">\n",
       "  <thead>\n",
       "    <tr style=\"text-align: right;\">\n",
       "      <th></th>\n",
       "      <th>tweet_id</th>\n",
       "      <th>tag</th>\n",
       "      <th>start</th>\n",
       "      <th>end</th>\n",
       "    </tr>\n",
       "  </thead>\n",
       "  <tbody>\n",
       "    <tr>\n",
       "      <th>0</th>\n",
       "      <td>1531787586280124417</td>\n",
       "      <td>AmberHeard</td>\n",
       "      <td>0</td>\n",
       "      <td>11</td>\n",
       "    </tr>\n",
       "    <tr>\n",
       "      <th>0</th>\n",
       "      <td>1531787586280124417</td>\n",
       "      <td>AmberTurd</td>\n",
       "      <td>12</td>\n",
       "      <td>22</td>\n",
       "    </tr>\n",
       "    <tr>\n",
       "      <th>0</th>\n",
       "      <td>1531787586280124417</td>\n",
       "      <td>MePoo</td>\n",
       "      <td>23</td>\n",
       "      <td>29</td>\n",
       "    </tr>\n",
       "    <tr>\n",
       "      <th>0</th>\n",
       "      <td>1531787586280124417</td>\n",
       "      <td>AmberHeardIsALiar</td>\n",
       "      <td>32</td>\n",
       "      <td>50</td>\n",
       "    </tr>\n",
       "    <tr>\n",
       "      <th>0</th>\n",
       "      <td>1531787586280124417</td>\n",
       "      <td>AmberHeardIsAnAbuser</td>\n",
       "      <td>52</td>\n",
       "      <td>73</td>\n",
       "    </tr>\n",
       "    <tr>\n",
       "      <th>...</th>\n",
       "      <td>...</td>\n",
       "      <td>...</td>\n",
       "      <td>...</td>\n",
       "      <td>...</td>\n",
       "    </tr>\n",
       "    <tr>\n",
       "      <th>7781</th>\n",
       "      <td>1531479136170127360</td>\n",
       "      <td>JusticeForJohnnyDepp</td>\n",
       "      <td>193</td>\n",
       "      <td>214</td>\n",
       "    </tr>\n",
       "    <tr>\n",
       "      <th>7781</th>\n",
       "      <td>1531479136170127360</td>\n",
       "      <td>JusticeForJohnny</td>\n",
       "      <td>215</td>\n",
       "      <td>232</td>\n",
       "    </tr>\n",
       "    <tr>\n",
       "      <th>7781</th>\n",
       "      <td>1531479136170127360</td>\n",
       "      <td>IStandWithJohnnyDepp</td>\n",
       "      <td>233</td>\n",
       "      <td>254</td>\n",
       "    </tr>\n",
       "    <tr>\n",
       "      <th>7781</th>\n",
       "      <td>1531479136170127360</td>\n",
       "      <td>MenToo</td>\n",
       "      <td>255</td>\n",
       "      <td>262</td>\n",
       "    </tr>\n",
       "    <tr>\n",
       "      <th>7781</th>\n",
       "      <td>1531479136170127360</td>\n",
       "      <td>RETWEEET</td>\n",
       "      <td>263</td>\n",
       "      <td>272</td>\n",
       "    </tr>\n",
       "  </tbody>\n",
       "</table>\n",
       "<p>25067 rows × 4 columns</p>\n",
       "</div>"
      ],
      "text/plain": [
       "                 tweet_id                   tag  start  end\n",
       "0     1531787586280124417            AmberHeard      0   11\n",
       "0     1531787586280124417             AmberTurd     12   22\n",
       "0     1531787586280124417                 MePoo     23   29\n",
       "0     1531787586280124417     AmberHeardIsALiar     32   50\n",
       "0     1531787586280124417  AmberHeardIsAnAbuser     52   73\n",
       "...                   ...                   ...    ...  ...\n",
       "7781  1531479136170127360  JusticeForJohnnyDepp    193  214\n",
       "7781  1531479136170127360      JusticeForJohnny    215  232\n",
       "7781  1531479136170127360  IStandWithJohnnyDepp    233  254\n",
       "7781  1531479136170127360                MenToo    255  262\n",
       "7781  1531479136170127360              RETWEEET    263  272\n",
       "\n",
       "[25067 rows x 4 columns]"
      ]
     },
     "execution_count": 7,
     "metadata": {},
     "output_type": "execute_result"
    }
   ],
   "source": [
    "tweet_obj.tables[\"hashtag_tweet_mapping\"]"
   ]
  },
  {
   "cell_type": "code",
   "execution_count": 9,
   "metadata": {},
   "outputs": [
    {
     "ename": "NameError",
     "evalue": "name 'engine' is not defined",
     "output_type": "error",
     "traceback": [
      "\u001b[1;31m---------------------------------------------------------------------------\u001b[0m",
      "\u001b[1;31mNameError\u001b[0m                                 Traceback (most recent call last)",
      "\u001b[1;32mc:\\Users\\HP\\Desktop\\Projects-Incomplete\\Hate Speech\\misogyny\\twarc2_to_sql\\test.ipynb Cell 6\u001b[0m in \u001b[0;36m<cell line: 1>\u001b[1;34m()\u001b[0m\n\u001b[1;32m----> <a href='vscode-notebook-cell:/c%3A/Users/HP/Desktop/Projects-Incomplete/Hate%20Speech/misogyny/twarc2_to_sql/test.ipynb#W5sZmlsZQ%3D%3D?line=0'>1</a>\u001b[0m table_schema \u001b[39m=\u001b[39m pd\u001b[39m.\u001b[39mread_sql(q, engine)\n",
      "\u001b[1;31mNameError\u001b[0m: name 'engine' is not defined"
     ]
    }
   ],
   "source": [
    "table_schema = pd.read_sql(q, engine)"
   ]
  },
  {
   "cell_type": "code",
   "execution_count": 13,
   "metadata": {},
   "outputs": [
    {
     "data": {
      "text/plain": [
       "True"
      ]
     },
     "execution_count": 13,
     "metadata": {},
     "output_type": "execute_result"
    }
   ],
   "source": [
    "# set(tweet_obj.tables['replied_to_tweet_mapping'].columns)\n",
    "set(table_schema[\"column_name\"].unique()) == set(\n",
    "    tweet_obj.tables[\"hashtag_tweet_mapping\"].columns\n",
    ")"
   ]
  },
  {
   "cell_type": "code",
   "execution_count": 12,
   "metadata": {},
   "outputs": [],
   "source": [
    "q = \"\"\"\n",
    "SELECT count(*) FROM\n",
    "author_data\n",
    "\"\"\""
   ]
  },
  {
   "cell_type": "code",
   "execution_count": 10,
   "metadata": {},
   "outputs": [],
   "source": [
    "q = \"\"\"\n",
    "select count(distinct(id)) from author_data\n",
    "\"\"\""
   ]
  },
  {
   "cell_type": "code",
   "execution_count": 13,
   "metadata": {},
   "outputs": [
    {
     "data": {
      "text/html": [
       "<div>\n",
       "<style scoped>\n",
       "    .dataframe tbody tr th:only-of-type {\n",
       "        vertical-align: middle;\n",
       "    }\n",
       "\n",
       "    .dataframe tbody tr th {\n",
       "        vertical-align: top;\n",
       "    }\n",
       "\n",
       "    .dataframe thead th {\n",
       "        text-align: right;\n",
       "    }\n",
       "</style>\n",
       "<table border=\"1\" class=\"dataframe\">\n",
       "  <thead>\n",
       "    <tr style=\"text-align: right;\">\n",
       "      <th></th>\n",
       "      <th>count</th>\n",
       "    </tr>\n",
       "  </thead>\n",
       "  <tbody>\n",
       "    <tr>\n",
       "      <th>0</th>\n",
       "      <td>2092</td>\n",
       "    </tr>\n",
       "  </tbody>\n",
       "</table>\n",
       "</div>"
      ],
      "text/plain": [
       "   count\n",
       "0   2092"
      ]
     },
     "execution_count": 13,
     "metadata": {},
     "output_type": "execute_result"
    }
   ],
   "source": [
    "pd.read_sql(q, engine)"
   ]
  },
  {
   "cell_type": "code",
   "execution_count": 20,
   "metadata": {},
   "outputs": [],
   "source": [
    "q = \"\"\"\n",
    "SELECT qt.referenced_tweet_id,td.text,td.id\n",
    "FROM quoted_tweet_mapping  qt\n",
    "join tweet_data td\n",
    "    on qt.referenced_tweet_id = td.id\n",
    "\"\"\""
   ]
  },
  {
   "cell_type": "code",
   "execution_count": 17,
   "metadata": {},
   "outputs": [
    {
     "data": {
      "text/plain": [
       "6761"
      ]
     },
     "execution_count": 17,
     "metadata": {},
     "output_type": "execute_result"
    }
   ],
   "source": [
    "tweet_obj.tables[\"tweet_data\"].id.count()"
   ]
  },
  {
   "cell_type": "code",
   "execution_count": 21,
   "metadata": {},
   "outputs": [],
   "source": [
    "quote_data = pd.read_sql(q, engine)"
   ]
  },
  {
   "cell_type": "code",
   "execution_count": 26,
   "metadata": {},
   "outputs": [],
   "source": [
    "q = \"\"\"\n",
    "SELECT *\n",
    "from mention_tweet_mapping\n",
    "limit 10\n",
    "\"\"\"\n",
    "\n",
    "metioned_data = pd.read_sql(q, engine)"
   ]
  },
  {
   "cell_type": "code",
   "execution_count": 27,
   "metadata": {},
   "outputs": [
    {
     "data": {
      "text/html": [
       "<div>\n",
       "<style scoped>\n",
       "    .dataframe tbody tr th:only-of-type {\n",
       "        vertical-align: middle;\n",
       "    }\n",
       "\n",
       "    .dataframe tbody tr th {\n",
       "        vertical-align: top;\n",
       "    }\n",
       "\n",
       "    .dataframe thead th {\n",
       "        text-align: right;\n",
       "    }\n",
       "</style>\n",
       "<table border=\"1\" class=\"dataframe\">\n",
       "  <thead>\n",
       "    <tr style=\"text-align: right;\">\n",
       "      <th></th>\n",
       "      <th>tweet_id</th>\n",
       "      <th>mention_user_id</th>\n",
       "      <th>username</th>\n",
       "      <th>start</th>\n",
       "      <th>end</th>\n",
       "    </tr>\n",
       "  </thead>\n",
       "  <tbody>\n",
       "    <tr>\n",
       "      <th>0</th>\n",
       "      <td>1079874246128660483</td>\n",
       "      <td>2308699184</td>\n",
       "      <td>MentalStigmas</td>\n",
       "      <td>3</td>\n",
       "      <td>17</td>\n",
       "    </tr>\n",
       "    <tr>\n",
       "      <th>1</th>\n",
       "      <td>1079874246128660483</td>\n",
       "      <td>5988062</td>\n",
       "      <td>TheEconomist</td>\n",
       "      <td>109</td>\n",
       "      <td>122</td>\n",
       "    </tr>\n",
       "    <tr>\n",
       "      <th>2</th>\n",
       "      <td>1079857715684564994</td>\n",
       "      <td>4787013172</td>\n",
       "      <td>nitin33K</td>\n",
       "      <td>3</td>\n",
       "      <td>12</td>\n",
       "    </tr>\n",
       "    <tr>\n",
       "      <th>3</th>\n",
       "      <td>1079857715684564994</td>\n",
       "      <td>4573405572</td>\n",
       "      <td>MumbaiPolice</td>\n",
       "      <td>14</td>\n",
       "      <td>27</td>\n",
       "    </tr>\n",
       "    <tr>\n",
       "      <th>4</th>\n",
       "      <td>1079857715684564994</td>\n",
       "      <td>3041294294</td>\n",
       "      <td>IPS_Association</td>\n",
       "      <td>106</td>\n",
       "      <td>122</td>\n",
       "    </tr>\n",
       "    <tr>\n",
       "      <th>5</th>\n",
       "      <td>1079857715684564994</td>\n",
       "      <td>2686770528</td>\n",
       "      <td>_DigitalIndia</td>\n",
       "      <td>123</td>\n",
       "      <td>137</td>\n",
       "    </tr>\n",
       "    <tr>\n",
       "      <th>6</th>\n",
       "      <td>1079848933504045056</td>\n",
       "      <td>4787013172</td>\n",
       "      <td>nitin33K</td>\n",
       "      <td>3</td>\n",
       "      <td>12</td>\n",
       "    </tr>\n",
       "    <tr>\n",
       "      <th>7</th>\n",
       "      <td>1079848933504045056</td>\n",
       "      <td>4573405572</td>\n",
       "      <td>MumbaiPolice</td>\n",
       "      <td>14</td>\n",
       "      <td>27</td>\n",
       "    </tr>\n",
       "    <tr>\n",
       "      <th>8</th>\n",
       "      <td>1079848933504045056</td>\n",
       "      <td>3041294294</td>\n",
       "      <td>IPS_Association</td>\n",
       "      <td>106</td>\n",
       "      <td>122</td>\n",
       "    </tr>\n",
       "    <tr>\n",
       "      <th>9</th>\n",
       "      <td>1079848933504045056</td>\n",
       "      <td>2686770528</td>\n",
       "      <td>_DigitalIndia</td>\n",
       "      <td>123</td>\n",
       "      <td>137</td>\n",
       "    </tr>\n",
       "  </tbody>\n",
       "</table>\n",
       "</div>"
      ],
      "text/plain": [
       "              tweet_id mention_user_id         username  start  end\n",
       "0  1079874246128660483      2308699184    MentalStigmas      3   17\n",
       "1  1079874246128660483         5988062     TheEconomist    109  122\n",
       "2  1079857715684564994      4787013172         nitin33K      3   12\n",
       "3  1079857715684564994      4573405572     MumbaiPolice     14   27\n",
       "4  1079857715684564994      3041294294  IPS_Association    106  122\n",
       "5  1079857715684564994      2686770528    _DigitalIndia    123  137\n",
       "6  1079848933504045056      4787013172         nitin33K      3   12\n",
       "7  1079848933504045056      4573405572     MumbaiPolice     14   27\n",
       "8  1079848933504045056      3041294294  IPS_Association    106  122\n",
       "9  1079848933504045056      2686770528    _DigitalIndia    123  137"
      ]
     },
     "execution_count": 27,
     "metadata": {},
     "output_type": "execute_result"
    }
   ],
   "source": [
    "metioned_data"
   ]
  }
 ],
 "metadata": {
  "kernelspec": {
   "display_name": "Python 3.8.13 ('misinfo')",
   "language": "python",
   "name": "python3"
  },
  "language_info": {
   "codemirror_mode": {
    "name": "ipython",
    "version": 3
   },
   "file_extension": ".py",
   "mimetype": "text/x-python",
   "name": "python",
   "nbconvert_exporter": "python",
   "pygments_lexer": "ipython3",
   "version": "3.8.13"
  },
  "orig_nbformat": 4,
  "vscode": {
   "interpreter": {
    "hash": "c22271d39fa57549430a265acba6f05a754be972c2607afe2021cd2e8d975b4c"
   }
  }
 },
 "nbformat": 4,
 "nbformat_minor": 2
}
